{
 "cells": [
  {
   "cell_type": "code",
   "execution_count": 1,
   "metadata": {},
   "outputs": [],
   "source": [
    "import tensorflow as tf\n",
    "from tensorflow import keras\n",
    "from tensorflow.keras.models import Sequential\n",
    "from tensorflow.keras.preprocessing.image import ImageDataGenerator\n",
    "from tensorflow.keras import layers\n",
    "\n",
    "from sklearn.metrics import classification_report\n",
    "from sklearn.metrics import confusion_matrix\n",
    "\n",
    "from tensorflow.keras.callbacks import EarlyStopping\n",
    "from tensorflow.keras import layers\n",
    "\n",
    "import matplotlib.pyplot as plt\n",
    "import numpy"
   ]
  },
  {
   "cell_type": "code",
   "execution_count": 2,
   "metadata": {},
   "outputs": [],
   "source": [
    "training_data_generator = ImageDataGenerator(rescale=1.0/255,\n",
    "\n",
    "#Randomly increase or decrease the size of the image by up to 10%\n",
    "zoom_range=0.1, \n",
    "\n",
    "#Randomly rotate the image between -25,25 degrees\n",
    "rotation_range=25, \n",
    "\n",
    "#Shift the image along its width by up to +/- 5%\n",
    "width_shift_range=0.05, \n",
    "\n",
    "#Shift the image along its height by up to +/- 5%\n",
    "height_shift_range=0.05,\n",
    "\n",
    ")"
   ]
  },
  {
   "cell_type": "code",
   "execution_count": 3,
   "metadata": {},
   "outputs": [],
   "source": [
    "#Preprocesing\n",
    "training_data_generator = ImageDataGenerator(rescale = 1.0/255, zoom_range = 0.3, rotation_range = 15, width_shift_range =0.02,\n",
    "                                            height_shift_range = 0.05)\n",
    "validation_data_generator = ImageDataGenerator()"
   ]
  },
  {
   "cell_type": "markdown",
   "metadata": {},
   "source": [
    "## Loading train and test images"
   ]
  },
  {
   "cell_type": "code",
   "execution_count": 4,
   "metadata": {},
   "outputs": [
    {
     "name": "stdout",
     "output_type": "stream",
     "text": [
      "Found 251 images belonging to 3 classes.\n",
      "Found 66 images belonging to 3 classes.\n"
     ]
    }
   ],
   "source": [
    "#Local variables \n",
    "DIRECTORY_TRAIN = 'Covid19-dataset/train'\n",
    "DIRECTORY_TEST = 'Covid19-dataset/test'\n",
    "CLASS_MODE = \"categorical\"\n",
    "COLOR_MODE = \"grayscale\"\n",
    "TARGET_SIZE = (256,256)\n",
    "BATCH_SIZE = 32\n",
    "\n",
    "\n",
    "training_iterator = training_data_generator.flow_from_directory(DIRECTORY_TRAIN, class_mode = CLASS_MODE, color_mode = COLOR_MODE,\n",
    "                                                               target_size = TARGET_SIZE, batch_size = BATCH_SIZE)\n",
    "validation_iterator = validation_data_generator.flow_from_directory(DIRECTORY_TEST, class_mode = CLASS_MODE, color_mode = COLOR_MODE,\n",
    "                                                              batch_size = BATCH_SIZE)\n",
    "#In order to get the preprocessed data \n",
    "sample_images, labels = training_iterator.next()\n",
    "\n",
    "    "
   ]
  },
  {
   "cell_type": "markdown",
   "metadata": {},
   "source": [
    "## Creating DL model "
   ]
  },
  {
   "cell_type": "code",
   "execution_count": 5,
   "metadata": {},
   "outputs": [
    {
     "name": "stdout",
     "output_type": "stream",
     "text": [
      "Model: \"sequential\"\n",
      "_________________________________________________________________\n",
      " Layer (type)                Output Shape              Param #   \n",
      "=================================================================\n",
      " conv2d (Conv2D)             (None, 84, 84, 5)         130       \n",
      "                                                                 \n",
      " max_pooling2d (MaxPooling2D  (None, 42, 42, 5)        0         \n",
      " )                                                               \n",
      "                                                                 \n",
      " dropout (Dropout)           (None, 42, 42, 5)         0         \n",
      "                                                                 \n",
      " conv2d_1 (Conv2D)           (None, 40, 40, 3)         138       \n",
      "                                                                 \n",
      " max_pooling2d_1 (MaxPooling  (None, 20, 20, 3)        0         \n",
      " 2D)                                                             \n",
      "                                                                 \n",
      " dropout_1 (Dropout)         (None, 20, 20, 3)         0         \n",
      "                                                                 \n",
      " flatten (Flatten)           (None, 1200)              0         \n",
      "                                                                 \n",
      " dense (Dense)               (None, 3)                 3603      \n",
      "                                                                 \n",
      "=================================================================\n",
      "Total params: 3,871\n",
      "Trainable params: 3,871\n",
      "Non-trainable params: 0\n",
      "_________________________________________________________________\n",
      "None\n"
     ]
    }
   ],
   "source": [
    "# sequential model\n",
    "model = Sequential()\n",
    "# add input layer with grayscale image shape\n",
    "model.add(tf.keras.Input(shape=(256, 256, 1)))\n",
    "# convolutional hidden layers with relu functions\n",
    "# maxpooling layers and dropout layers as well\n",
    "model.add(layers.Conv2D(5, 5, strides=3, activation=\"relu\")) \n",
    "model.add(layers.MaxPooling2D(\n",
    "        pool_size=(2, 2), strides=(2,2)))\n",
    "model.add(layers.Dropout(0.1))\n",
    "model.add(layers.Conv2D(3, 3, strides=1, activation=\"relu\")) \n",
    "model.add(layers.MaxPooling2D(\n",
    "        pool_size=(2, 2), strides=(2,2)))\n",
    "model.add(layers.Dropout(0.2))\n",
    "model.add(layers.Flatten())\n",
    "    # output layer with softmax activation function\n",
    "model.add(layers.Dense(3,activation=\"softmax\"))\n",
    "\n",
    "print(model.summary())"
   ]
  },
  {
   "cell_type": "markdown",
   "metadata": {},
   "source": [
    "## Compiling the model "
   ]
  },
  {
   "cell_type": "code",
   "execution_count": 6,
   "metadata": {},
   "outputs": [],
   "source": [
    "model.compile(optimizer = tf.keras.optimizers.Adam(learning_rate = 0.001),\n",
    "             loss = tf.keras.losses.CategoricalCrossentropy(),\n",
    "             metrics=[tf.keras.metrics.CategoricalAccuracy(),tf.keras.metrics.AUC()])"
   ]
  },
  {
   "cell_type": "markdown",
   "metadata": {},
   "source": [
    "## Fitting the model "
   ]
  },
  {
   "cell_type": "code",
   "execution_count": 7,
   "metadata": {},
   "outputs": [],
   "source": [
    "# early stopping implementation\n",
    "es = EarlyStopping(monitor='val_auc', mode='min', verbose=1, patience=20)\n"
   ]
  },
  {
   "cell_type": "code",
   "execution_count": 8,
   "metadata": {},
   "outputs": [
    {
     "name": "stdout",
     "output_type": "stream",
     "text": [
      "Epoch 1/5\n",
      "7/7 [==============================] - 5s 442ms/step - loss: 1.0343 - categorical_accuracy: 0.4701 - auc: 0.6532 - val_loss: 89.7632 - val_categorical_accuracy: 0.3939 - val_auc: 0.5455\n",
      "Epoch 2/5\n",
      "7/7 [==============================] - 3s 385ms/step - loss: 0.9926 - categorical_accuracy: 0.5378 - auc: 0.6926 - val_loss: 17.1340 - val_categorical_accuracy: 0.6364 - val_auc: 0.7306\n",
      "Epoch 3/5\n",
      "7/7 [==============================] - 3s 406ms/step - loss: 0.9412 - categorical_accuracy: 0.6255 - auc: 0.7669 - val_loss: 21.7749 - val_categorical_accuracy: 0.5909 - val_auc: 0.7231\n",
      "Epoch 4/5\n",
      "7/7 [==============================] - 3s 405ms/step - loss: 0.8811 - categorical_accuracy: 0.6454 - auc: 0.7882 - val_loss: 18.1690 - val_categorical_accuracy: 0.7879 - val_auc: 0.8457\n",
      "Epoch 5/5\n",
      "7/7 [==============================] - 3s 438ms/step - loss: 0.7517 - categorical_accuracy: 0.7012 - auc: 0.8615 - val_loss: 22.5433 - val_categorical_accuracy: 0.7576 - val_auc: 0.8182\n"
     ]
    }
   ],
   "source": [
    "\n",
    "# fit the model with 10 ephochs and early stopping\n",
    "history =model.fit(\n",
    "        training_iterator,\n",
    "        steps_per_epoch=training_iterator.samples/BATCH_SIZE, epochs=5,\n",
    "        validation_data=validation_iterator,\n",
    "        validation_steps=validation_iterator.samples/BATCH_SIZE,\n",
    "        )"
   ]
  },
  {
   "cell_type": "markdown",
   "metadata": {},
   "source": [
    "## Plotting results"
   ]
  },
  {
   "cell_type": "code",
   "execution_count": 9,
   "metadata": {},
   "outputs": [
    {
     "data": {
      "image/png": "[encoded data removed]",
      "text/plain": [
       "<Figure size 640x480 with 2 Axes>"
      ]
     },
     "metadata": {},
     "output_type": "display_data"
    }
   ],
   "source": [
    "fig = plt.figure()\n",
    "ax1 = fig.add_subplot(2, 1, 1)\n",
    "ax1.plot(history.history['categorical_accuracy'])\n",
    "ax1.plot(history.history['val_categorical_accuracy'])\n",
    "ax1.set_title('Model accuracy')\n",
    "ax1.set_xlabel('epoch')\n",
    "ax1.set_ylabel('accuracy')\n",
    "ax1.legend(['train', 'validation'], loc = 'upper left')\n",
    "\n",
    "ax2 = fig.add_subplot(2, 1, 2)\n",
    "ax2.plot(history.history['auc'])\n",
    "ax2.plot(history.history['val_auc'])\n",
    "ax2.set_title('model auc')\n",
    "ax2.set_xlabel('epoch')\n",
    "ax2.set_ylabel('auc')\n",
    "ax2.legend(['train', 'validation'], loc='upper left')\n",
    "\n",
    "plt.show()"
   ]
  },
  {
   "cell_type": "code",
   "execution_count": 10,
   "metadata": {},
   "outputs": [
    {
     "name": "stdout",
     "output_type": "stream",
     "text": [
      "3/3 [==============================] - 0s 73ms/step\n",
      "              precision    recall  f1-score   support\n",
      "\n",
      "       Covid       0.40      0.38      0.39        26\n",
      "      Normal       0.40      0.20      0.27        20\n",
      "   Pneumonia       0.39      0.60      0.47        20\n",
      "\n",
      "    accuracy                           0.39        66\n",
      "   macro avg       0.40      0.39      0.38        66\n",
      "weighted avg       0.40      0.39      0.38        66\n",
      "\n"
     ]
    }
   ],
   "source": [
    "#Report\n",
    "test_steps_per_epoch = numpy.math.ceil(validation_iterator.samples / validation_iterator.batch_size)\n",
    "predictions = model.predict(validation_iterator, steps=test_steps_per_epoch)\n",
    "test_steps_per_epoch = numpy.math.ceil(validation_iterator.samples / validation_iterator.batch_size)\n",
    "predicted_classes = numpy.argmax(predictions, axis=1)\n",
    "true_classes = validation_iterator.classes\n",
    "class_labels = list(validation_iterator.class_indices.keys())\n",
    "report = classification_report(true_classes, predicted_classes, target_names=class_labels)\n",
    "print(report)   \n"
   ]
  },
  {
   "cell_type": "code",
   "execution_count": 11,
   "metadata": {},
   "outputs": [
    {
     "name": "stdout",
     "output_type": "stream",
     "text": [
      "[[10  2 14]\n",
      " [11  4  5]\n",
      " [ 4  4 12]]\n"
     ]
    }
   ],
   "source": [
    "cm=confusion_matrix(true_classes,predicted_classes)\n",
    "print(cm)"
   ]
  }
 ],
 "metadata": {
  "kernelspec": {
   "display_name": "Python 3 (ipykernel)",
   "language": "python",
   "name": "python3"
  },
  "language_info": {
   "codemirror_mode": {
    "name": "ipython",
    "version": 3
   },
   "file_extension": ".py",
   "mimetype": "text/x-python",
   "name": "python",
   "nbconvert_exporter": "python",
   "pygments_lexer": "ipython3",
   "version": "3.10.9"
  }
 },
 "nbformat": 4,
 "nbformat_minor": 2
}
